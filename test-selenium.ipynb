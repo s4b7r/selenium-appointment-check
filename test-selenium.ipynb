{
 "cells": [
  {
   "cell_type": "code",
   "execution_count": null,
   "id": "ebdb4fef-241b-4cf7-8383-c564e4e042e7",
   "metadata": {},
   "outputs": [],
   "source": [
    "import time\n",
    "from selenium import webdriver"
   ]
  },
  {
   "cell_type": "code",
   "execution_count": null,
   "id": "ff8b1a0d-d4ba-4002-9ad4-992a95c2b05f",
   "metadata": {},
   "outputs": [],
   "source": [
    "chrome_options = webdriver.ChromeOptions()\n",
    "chrome_options.add_argument('--headless')\n",
    "chrome_options.add_argument('--no-sandbox')\n",
    "chrome_options.add_argument('--disable-gpu')\n",
    "chrome_options.add_argument('--window-size=1280x1696')\n",
    "chrome_options.add_argument('--hide-scrollbars')\n",
    "chrome_options.add_argument('--enable-logging')\n",
    "chrome_options.add_argument('--log-level=0')\n",
    "chrome_options.add_argument('--v=99')\n",
    "chrome_options.add_argument('--single-process')\n",
    "chrome_options.add_argument(\"--enable-javascript\")"
   ]
  },
  {
   "cell_type": "code",
   "execution_count": null,
   "id": "8cf9a8f3-440b-4ad9-b6ef-a081e32d4f2e",
   "metadata": {},
   "outputs": [],
   "source": [
    "#driver = webdriver.Chrome('chromedriver', options=chrome_options)  # Optional argument, if not specified will search path.\n",
    "driver = webdriver.Chrome('chromedriver')  # Optional argument, if not specified will search path.\n",
    "#driver = webdriver.Remote(\n",
    "#    command_executor='http://localhost:4444',\n",
    "#    options=chrome_options\n",
    "#)\n",
    "driver.get('https://uni-bi.testzentren-deutschland.de/buchung/impfung')\n",
    "time.sleep(5) # I have to wait for the window to build up..."
   ]
  },
  {
   "cell_type": "code",
   "execution_count": null,
   "id": "b71cf587-7fa8-4302-835c-92cc47afb824",
   "metadata": {},
   "outputs": [],
   "source": [
    "def move_to_click(element):\n",
    "    from selenium.webdriver.common.action_chains import ActionChains\n",
    "    driver.execute_script(\"window.scrollTo(0,document.body.scrollHeight)\")\n",
    "    time.sleep(.5)\n",
    "    ActionChains(driver).move_to_element(element).perform()\n",
    "    time.sleep(.5)\n",
    "    from selenium.common.exceptions import ElementClickInterceptedException\n",
    "    while True:\n",
    "        try:\n",
    "            element.click()\n",
    "        except ElementClickInterceptedException:\n",
    "            driver.execute_script(\"window.scrollBy(0,50)\")\n",
    "        else:\n",
    "            break"
   ]
  },
  {
   "cell_type": "code",
   "execution_count": null,
   "id": "3991bed1-0eae-47db-9b30-c5d716c4a389",
   "metadata": {},
   "outputs": [],
   "source": [
    "cookiesettings_button = driver.find_element_by_xpath('//button[contains(text(), \"Cookie-Einstellungen\")]')\n"
   ]
  },
  {
   "cell_type": "code",
   "execution_count": null,
   "id": "b8f77fb5-c07e-4ad7-874a-afe25b5ed853",
   "metadata": {},
   "outputs": [],
   "source": [
    "move_to_click(cookiesettings_button)"
   ]
  },
  {
   "cell_type": "code",
   "execution_count": null,
   "id": "1866a53b-5965-48b4-b9c2-ec1b8ed2f4c2",
   "metadata": {},
   "outputs": [],
   "source": [
    "cookiesave_button =  driver.find_element_by_xpath('//button[contains(text(), \"Speichern\")]')\n",
    "move_to_click(cookiesave_button)"
   ]
  },
  {
   "cell_type": "code",
   "execution_count": null,
   "id": "ca20ce2b-07c5-4de2-8c6b-f1d5d6e4f8da",
   "metadata": {},
   "outputs": [],
   "source": [
    "from selenium.webdriver.support.select import Select\n"
   ]
  },
  {
   "cell_type": "code",
   "execution_count": null,
   "id": "2f857bad-78e2-4354-8019-3796697f61ee",
   "metadata": {},
   "outputs": [],
   "source": [
    "def all_in_str(looking_fors, looking_in):\n",
    "    for looking_for in looking_fors:\n",
    "        if looking_for not in looking_in:\n",
    "            return False\n",
    "    return True"
   ]
  },
  {
   "cell_type": "code",
   "execution_count": null,
   "id": "33e43827-ee27-4323-bc71-e25a320fad77",
   "metadata": {},
   "outputs": [],
   "source": [
    "looking_for = ['BionTech', 'Auffrisch', 'Unter 30']\n",
    "#looking_for = ['Moderna', 'Auffrisch', 'Über 30']"
   ]
  },
  {
   "cell_type": "code",
   "execution_count": null,
   "id": "6a8f6711-3014-436f-a422-ce4d1397645d",
   "metadata": {},
   "outputs": [],
   "source": [
    "vacc_input = driver.find_element_by_xpath('//select[@name=\"form_data.service_id\"]')\n",
    "vacc_select = Select(vacc_input)\n",
    "vacc_option = [opt for opt in vacc_select.options if all_in_str(looking_for, opt.text)][0].text \n",
    "vacc_select.select_by_visible_text(vacc_option)"
   ]
  },
  {
   "cell_type": "code",
   "execution_count": null,
   "id": "e28ca507-23d2-4b23-881d-b4ff7a698eb3",
   "metadata": {},
   "outputs": [],
   "source": [
    "[el.text for el in vacc_select.options]"
   ]
  },
  {
   "cell_type": "code",
   "execution_count": null,
   "id": "43ab31c2-a53c-46c3-bce0-abc45eb97379",
   "metadata": {},
   "outputs": [],
   "source": [
    "from selenium.common.exceptions import NoSuchElementException"
   ]
  },
  {
   "cell_type": "code",
   "execution_count": null,
   "id": "e2e3e997-7cdc-4352-b2a1-c6c61b7f6cdf",
   "metadata": {},
   "outputs": [],
   "source": [
    "termin_label = driver.find_element_by_xpath('//label[contains(text(), \"Termin\")]')"
   ]
  },
  {
   "cell_type": "code",
   "execution_count": null,
   "id": "02ba134e-47c2-4324-a852-71a53020099b",
   "metadata": {},
   "outputs": [],
   "source": [
    "print(f'looking for {looking_for}')\n",
    "try:\n",
    "    termin_label.find_element_by_xpath('../following-sibling::div/div[contains(text(), \"keine freien Termine\")]')\n",
    "except NoSuchElementException:\n",
    "    print('probably there is an appointment open')\n",
    "    pass\n",
    "try:\n",
    "    termin_label.find_element_by_xpath('../following-sibling::div//label[contains(text(), \"Datum\")]')\n",
    "    termin_label.find_element_by_xpath('../following-sibling::div//select[@name=\"form_data.appointment.date\"]')\n",
    "except NoSuchElementException:\n",
    "    print('probably no appointment open')\n",
    "    pass"
   ]
  },
  {
   "cell_type": "code",
   "execution_count": null,
   "id": "9d029388-5d68-4a3f-9432-9b8c24c43a25",
   "metadata": {},
   "outputs": [],
   "source": []
  },
  {
   "cell_type": "code",
   "execution_count": null,
   "id": "a76293cf-e839-4b73-a457-ad07aeff13fd",
   "metadata": {},
   "outputs": [],
   "source": []
  },
  {
   "cell_type": "code",
   "execution_count": null,
   "id": "87b129b8-d60f-4e77-87c7-9c80b99b1923",
   "metadata": {},
   "outputs": [],
   "source": []
  },
  {
   "cell_type": "code",
   "execution_count": null,
   "id": "5faeee68-5eb4-43a3-9b34-993bf0e9be4f",
   "metadata": {},
   "outputs": [],
   "source": []
  },
  {
   "cell_type": "code",
   "execution_count": null,
   "id": "c4ce4465-f209-4810-bf5e-688443262835",
   "metadata": {},
   "outputs": [],
   "source": []
  },
  {
   "cell_type": "code",
   "execution_count": null,
   "id": "efc429ed-f42b-4b61-8885-abf25b60c508",
   "metadata": {},
   "outputs": [],
   "source": [
    "driver.quit()"
   ]
  },
  {
   "cell_type": "code",
   "execution_count": null,
   "id": "3829c6d0-3148-4c3a-819e-715f3d11ace7",
   "metadata": {},
   "outputs": [],
   "source": []
  }
 ],
 "metadata": {
  "language_info": {
   "name": "python",
   "pygments_lexer": "ipython3"
  }
 },
 "nbformat": 4,
 "nbformat_minor": 5
}
